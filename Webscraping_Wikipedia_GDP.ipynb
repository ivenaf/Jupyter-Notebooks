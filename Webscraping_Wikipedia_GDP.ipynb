{
 "cells": [
  {
   "cell_type": "code",
   "execution_count": 36,
   "id": "eb695d43-76ea-4f4c-b602-26b0a2b1a234",
   "metadata": {},
   "outputs": [
    {
     "name": "stdout",
     "output_type": "stream",
     "text": [
      "Requirement already satisfied: pandas in /opt/anaconda3/lib/python3.12/site-packages (2.2.3)\n",
      "Requirement already satisfied: numpy in /opt/anaconda3/lib/python3.12/site-packages (1.26.4)\n",
      "Requirement already satisfied: python-dateutil>=2.8.2 in /opt/anaconda3/lib/python3.12/site-packages (from pandas) (2.9.0.post0)\n",
      "Requirement already satisfied: pytz>=2020.1 in /opt/anaconda3/lib/python3.12/site-packages (from pandas) (2024.1)\n",
      "Requirement already satisfied: tzdata>=2022.7 in /opt/anaconda3/lib/python3.12/site-packages (from pandas) (2023.3)\n",
      "Requirement already satisfied: six>=1.5 in /opt/anaconda3/lib/python3.12/site-packages (from python-dateutil>=2.8.2->pandas) (1.16.0)\n",
      "Requirement already satisfied: lxml in /opt/anaconda3/lib/python3.12/site-packages (5.2.1)\n"
     ]
    }
   ],
   "source": [
    "!pip install pandas numpy\n",
    "!pip install lxml"
   ]
  },
  {
   "cell_type": "code",
   "execution_count": 37,
   "id": "bd46ad65-3348-4972-8b3d-cb86b7cd483a",
   "metadata": {},
   "outputs": [],
   "source": [
    "import numpy as np\n",
    "import pandas as pd"
   ]
  },
  {
   "cell_type": "markdown",
   "id": "6899a49c-7cc0-47a0-a2cf-0d2b0c767e5c",
   "metadata": {},
   "source": [
    "## 1. Extract the data (from wikipedia)through web scraping from the following url:"
   ]
  },
  {
   "cell_type": "code",
   "execution_count": 39,
   "id": "d1219003-55cb-4676-824a-8bcf405a5b60",
   "metadata": {},
   "outputs": [],
   "source": [
    "URL = \"https://en.wikipedia.org/wiki/List_of_countries_by_GDP_(nominal)\" # we will extract from here"
   ]
  },
  {
   "cell_type": "markdown",
   "id": "b7475e77-cae0-4802-9dbd-a12ced64de05",
   "metadata": {},
   "source": [
    "Adjustments:"
   ]
  },
  {
   "cell_type": "code",
   "execution_count": 41,
   "id": "dcf885ee-fd11-489b-b5c9-ad4056438583",
   "metadata": {},
   "outputs": [
    {
     "data": {
      "text/html": [
       "<div>\n",
       "<style scoped>\n",
       "    .dataframe tbody tr th:only-of-type {\n",
       "        vertical-align: middle;\n",
       "    }\n",
       "\n",
       "    .dataframe tbody tr th {\n",
       "        vertical-align: top;\n",
       "    }\n",
       "\n",
       "    .dataframe thead th {\n",
       "        text-align: right;\n",
       "    }\n",
       "</style>\n",
       "<table border=\"1\" class=\"dataframe\">\n",
       "  <thead>\n",
       "    <tr style=\"text-align: right;\">\n",
       "      <th></th>\n",
       "      <th>Country</th>\n",
       "      <th>GDP(Million USD)</th>\n",
       "    </tr>\n",
       "  </thead>\n",
       "  <tbody>\n",
       "    <tr>\n",
       "      <th>1</th>\n",
       "      <td>United States</td>\n",
       "      <td>30337162</td>\n",
       "    </tr>\n",
       "    <tr>\n",
       "      <th>2</th>\n",
       "      <td>China</td>\n",
       "      <td>19534894</td>\n",
       "    </tr>\n",
       "    <tr>\n",
       "      <th>3</th>\n",
       "      <td>Germany</td>\n",
       "      <td>4921563</td>\n",
       "    </tr>\n",
       "    <tr>\n",
       "      <th>4</th>\n",
       "      <td>Japan</td>\n",
       "      <td>4389326</td>\n",
       "    </tr>\n",
       "    <tr>\n",
       "      <th>5</th>\n",
       "      <td>India</td>\n",
       "      <td>4271922</td>\n",
       "    </tr>\n",
       "    <tr>\n",
       "      <th>6</th>\n",
       "      <td>United Kingdom</td>\n",
       "      <td>3730261</td>\n",
       "    </tr>\n",
       "    <tr>\n",
       "      <th>7</th>\n",
       "      <td>France</td>\n",
       "      <td>3283429</td>\n",
       "    </tr>\n",
       "    <tr>\n",
       "      <th>8</th>\n",
       "      <td>Italy</td>\n",
       "      <td>2459597</td>\n",
       "    </tr>\n",
       "    <tr>\n",
       "      <th>9</th>\n",
       "      <td>Canada</td>\n",
       "      <td>2330308</td>\n",
       "    </tr>\n",
       "    <tr>\n",
       "      <th>10</th>\n",
       "      <td>Brazil</td>\n",
       "      <td>2307162</td>\n",
       "    </tr>\n",
       "  </tbody>\n",
       "</table>\n",
       "</div>"
      ],
      "text/plain": [
       "           Country GDP(Million USD)\n",
       "1    United States         30337162\n",
       "2            China         19534894\n",
       "3          Germany          4921563\n",
       "4            Japan          4389326\n",
       "5            India          4271922\n",
       "6   United Kingdom          3730261\n",
       "7           France          3283429\n",
       "8            Italy          2459597\n",
       "9           Canada          2330308\n",
       "10          Brazil          2307162"
      ]
     },
     "execution_count": 41,
     "metadata": {},
     "output_type": "execute_result"
    }
   ],
   "source": [
    "#extract tables using pandas, keep number 2 as the required dataframe\n",
    "\n",
    "# Use match to find the table with \"World\" in the first row\n",
    "tables = pd.read_html(URL, match=\"World\") \n",
    "\n",
    "\n",
    "df = tables[0] # get the first and likley only table\n",
    "\n",
    "#replace column headers with column numbers\n",
    "df.columns = range(df.shape[1])\n",
    "\n",
    "#retain columns with index 0 and 1 (country, IMF gdp)\n",
    "df = df[[0,1]]\n",
    "\n",
    "#remove the first row (World) and any rows with NaN values\n",
    "df=df.iloc[1:].dropna()\n",
    "\n",
    "#retain rows with index 0 to 9, indicating the top 10 economies\n",
    "df = df.iloc[0:10]\n",
    "\n",
    "#assign column names\n",
    "df.columns = ['Country','GDP(Million USD)']\n",
    "\n",
    "df"
   ]
  },
  {
   "cell_type": "code",
   "execution_count": 42,
   "id": "6ff0394f-ac82-4400-8966-ed94b282af9c",
   "metadata": {},
   "outputs": [
    {
     "data": {
      "text/html": [
       "<div>\n",
       "<style scoped>\n",
       "    .dataframe tbody tr th:only-of-type {\n",
       "        vertical-align: middle;\n",
       "    }\n",
       "\n",
       "    .dataframe tbody tr th {\n",
       "        vertical-align: top;\n",
       "    }\n",
       "\n",
       "    .dataframe thead th {\n",
       "        text-align: right;\n",
       "    }\n",
       "</style>\n",
       "<table border=\"1\" class=\"dataframe\">\n",
       "  <thead>\n",
       "    <tr style=\"text-align: right;\">\n",
       "      <th></th>\n",
       "      <th>Country</th>\n",
       "      <th>GDP(Billion USD)</th>\n",
       "    </tr>\n",
       "  </thead>\n",
       "  <tbody>\n",
       "    <tr>\n",
       "      <th>1</th>\n",
       "      <td>United States</td>\n",
       "      <td>30337.0</td>\n",
       "    </tr>\n",
       "    <tr>\n",
       "      <th>2</th>\n",
       "      <td>China</td>\n",
       "      <td>19535.0</td>\n",
       "    </tr>\n",
       "    <tr>\n",
       "      <th>3</th>\n",
       "      <td>Germany</td>\n",
       "      <td>4922.0</td>\n",
       "    </tr>\n",
       "    <tr>\n",
       "      <th>4</th>\n",
       "      <td>Japan</td>\n",
       "      <td>4389.0</td>\n",
       "    </tr>\n",
       "    <tr>\n",
       "      <th>5</th>\n",
       "      <td>India</td>\n",
       "      <td>4272.0</td>\n",
       "    </tr>\n",
       "    <tr>\n",
       "      <th>6</th>\n",
       "      <td>United Kingdom</td>\n",
       "      <td>3730.0</td>\n",
       "    </tr>\n",
       "    <tr>\n",
       "      <th>7</th>\n",
       "      <td>France</td>\n",
       "      <td>3283.0</td>\n",
       "    </tr>\n",
       "    <tr>\n",
       "      <th>8</th>\n",
       "      <td>Italy</td>\n",
       "      <td>2460.0</td>\n",
       "    </tr>\n",
       "    <tr>\n",
       "      <th>9</th>\n",
       "      <td>Canada</td>\n",
       "      <td>2330.0</td>\n",
       "    </tr>\n",
       "    <tr>\n",
       "      <th>10</th>\n",
       "      <td>Brazil</td>\n",
       "      <td>2307.0</td>\n",
       "    </tr>\n",
       "  </tbody>\n",
       "</table>\n",
       "</div>"
      ],
      "text/plain": [
       "           Country  GDP(Billion USD)\n",
       "1    United States           30337.0\n",
       "2            China           19535.0\n",
       "3          Germany            4922.0\n",
       "4            Japan            4389.0\n",
       "5            India            4272.0\n",
       "6   United Kingdom            3730.0\n",
       "7           France            3283.0\n",
       "8            Italy            2460.0\n",
       "9           Canada            2330.0\n",
       "10          Brazil            2307.0"
      ]
     },
     "execution_count": 42,
     "metadata": {},
     "output_type": "execute_result"
    }
   ],
   "source": [
    "# change data type from 'GDP (Million USD) column to an integer. \n",
    "df['GDP(Million USD)'] = df['GDP(Million USD)'].astype(int)\n",
    "\n",
    "# convert from Million to Billion \n",
    "df[['GDP(Million USD)']] = df[['GDP(Million USD)']]/1000\n",
    "\n",
    "#round 2 decimals using numpy\n",
    "df[['GDP(Million USD)']] = np.round(df[['GDP(Million USD)']],0)\n",
    "\n",
    "# rename column header to Billion\n",
    "df.rename(columns = {'GDP(Million USD)': 'GDP(Billion USD)'}, inplace=True)\n",
    "\n",
    "df\n"
   ]
  },
  {
   "cell_type": "code",
   "execution_count": 43,
   "id": "d031d834-b2a2-4af4-8895-888c68bed57c",
   "metadata": {},
   "outputs": [],
   "source": [
    "import matplotlib.pyplot as plt"
   ]
  },
  {
   "cell_type": "code",
   "execution_count": 76,
   "id": "a3922f55-1c11-46e2-ba97-a29e9b1b95ad",
   "metadata": {},
   "outputs": [
    {
     "data": {
      "text/plain": [
       "Text(0, 0.5, 'GDP(Billion USD)')"
      ]
     },
     "execution_count": 76,
     "metadata": {},
     "output_type": "execute_result"
    },
    {
     "data": {
      "image/png": "[encoded data removed]",
      "text/plain": [
       "<Figure size 1200x600 with 1 Axes>"
      ]
     },
     "metadata": {},
     "output_type": "display_data"
    }
   ],
   "source": [
    "plt.figure(figsize=(12,6))\n",
    "plt.bar(df['Country'],df['GDP(Billion USD)'])\n",
    "plt.title(\"Top 10 Economies gy GDP (Nominal)\")\n",
    "plt.xlabel(\"Country\")\n",
    "plt.ylabel(\"GDP(Billion USD)\")"
   ]
  }
 ],
 "metadata": {
  "kernelspec": {
   "display_name": "Python 3 (ipykernel)",
   "language": "python",
   "name": "python3"
  },
  "language_info": {
   "codemirror_mode": {
    "name": "ipython",
    "version": 3
   },
   "file_extension": ".py",
   "mimetype": "text/x-python",
   "name": "python",
   "nbconvert_exporter": "python",
   "pygments_lexer": "ipython3",
   "version": "3.12.7"
  }
 },
 "nbformat": 4,
 "nbformat_minor": 5
}
