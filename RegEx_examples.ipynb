{
 "cells": [
  {
   "cell_type": "markdown",
   "id": "6525be37-de77-4d8a-9c92-246477456f68",
   "metadata": {},
   "source": [
    "# RegEX examples\n",
    "\n",
    "Regular expressions are patterns used to match and manipulate strings of text. \n",
    "\n",
    "\n",
    "\n",
    "\n",
    "\n",
    "| Special Sequence | Meaning                 | \tExample             |\n",
    "| -----------  | ----------------------- | ----------------------|\n",
    "| \\d|Matches any digit character (0-9)|\"123\" matches \"\\d\\d\\d\"|\n",
    "|\\D|Matches any non-digit character|\"hello\" matches \"\\D\\D\\D\\D\\D\"|\n",
    "|\\w|Matches any word character (a-z, A-Z, 0-9, and _)|\"hello_world\" matches \"\\w\\w\\w\\w\\w\\w\\w\\w\\w\\w\\w\"|\n",
    "|\\W|Matches any non-word character|\t\"@#$%\" matches \"\\W\\W\\W\\W\"|\n",
    "|\\s|Matches any whitespace character (space, tab, newline, etc.)|\"hello world\" matches \"\\w\\w\\w\\w\\w\\s\\w\\w\\w\\w\\w\"|\n",
    "|\\S|Matches any non-whitespace character|\"hello_world\" matches \"\\S\\S\\S\\S\\S\\S\\S\\S\\S\"|\n",
    "|\\b|Matches the boundary between a word character and a non-word character|\"cat\" matches \"\\bcat\\b\" in \"The cat sat on the mat\"|\n",
    "|\\B|Matches any position that is not a word boundary|\"cat\" matches \"\\Bcat\\B\" in \"category\" but not in \"The cat sat on the mat\"|\n",
    "\n"
   ]
  },
  {
   "cell_type": "code",
   "execution_count": null,
   "id": "5cd01b6d-fd7a-41fb-83d3-568e46d59452",
   "metadata": {},
   "outputs": [],
   "source": [
    "# import module\n",
    "\n",
    "import re"
   ]
  },
  {
   "cell_type": "markdown",
   "id": "84e9a631-d14f-4fc7-9ffb-ecdd56fdbb5d",
   "metadata": {},
   "source": [
    "### 1. Validating E-Mail example"
   ]
  },
  {
   "cell_type": "code",
   "execution_count": 124,
   "id": "885a9db9-cd6a-4ee7-9b1d-810e99114598",
   "metadata": {},
   "outputs": [
    {
     "name": "stdout",
     "output_type": "stream",
     "text": [
      "Invalid email address\n"
     ]
    }
   ],
   "source": [
    "\n",
    "email = \"test@example.com\"\n",
    "\n",
    "pattern = r\"^[a-zA-Z0-9._%+-]+@[a-zA-Z0-9.-]+\\.[a-zA-Z]{2,}$\"\n",
    "\n",
    "if re.match(pattern, email):\n",
    "    print(\"Valid email address\")\n",
    "else:\n",
    "    print(\"Invalid email address\")\n",
    "    "
   ]
  },
  {
   "cell_type": "markdown",
   "id": "7b6fa949-008a-4424-9fc2-50112fccdaed",
   "metadata": {},
   "source": [
    "### 2.a. Finding phone number example"
   ]
  },
  {
   "cell_type": "code",
   "execution_count": 126,
   "id": "b678c0c9-759d-4642-9659-40a94f6fe88a",
   "metadata": {},
   "outputs": [
    {
     "name": "stdout",
     "output_type": "stream",
     "text": [
      "['(555) 123-4567', '555.555.5555']\n"
     ]
    }
   ],
   "source": [
    "text = \"My phone number is (555) 123-4567 or 555.555.5555\"\n",
    "pattern = r\"\\(?\\d{3}\\)?[-.\\s]?\\d{3}[-.\\s]?\\d{4}\"\n",
    "\n",
    "phone_numbers = re.findall(pattern, text)\n",
    "print(phone_numbers)  # Output: ['(555) 123-4567', '555.555.5555']"
   ]
  },
  {
   "cell_type": "markdown",
   "id": "45bcd9ee-d3af-4a07-bc4b-fc917eb75f64",
   "metadata": {},
   "source": [
    "### 2.b. Finding phone number example"
   ]
  },
  {
   "cell_type": "code",
   "execution_count": 143,
   "id": "c3b17f83-634c-4ec1-8a45-c420be368ddc",
   "metadata": {},
   "outputs": [
    {
     "name": "stdout",
     "output_type": "stream",
     "text": [
      "Phone number found: 1234567890\n"
     ]
    }
   ],
   "source": [
    "pattern = r\"\\d\\d\\d\\d\\d\\d\\d\\d\\d\\d\"  # Matches any ten consecutive digits\n",
    "text = \"My Phone number is 1234567890\"\n",
    "match = re.search(pattern, text)\n",
    "\n",
    "if match:\n",
    "    print(\"Phone number found:\", match.group())\n",
    "else:\n",
    "    print(\"No match\")"
   ]
  },
  {
   "cell_type": "markdown",
   "id": "ca912a25-e493-4406-ad0f-afb1ae3efcb0",
   "metadata": {},
   "source": [
    "### 3. Validating URL example"
   ]
  },
  {
   "cell_type": "code",
   "execution_count": 130,
   "id": "660a1b3e-0bdd-4f9c-9604-ac284e1634b7",
   "metadata": {},
   "outputs": [
    {
     "name": "stdout",
     "output_type": "stream",
     "text": [
      "Invalid URL\n"
     ]
    }
   ],
   "source": [
    "import re\n",
    "\n",
    "url = \"https://www.examplecom/page?param=value\"\n",
    "pattern = r\"^(https?:\\/\\/)?(www\\.)?[-a-zA-Z0-9@:%._\\+~#=]{1,256}\\.[a-zA-Z0-9()]{1,6}\\b([-a-zA-Z0-9()@:%_\\+.~#?&//=]*)$\"\n",
    "\n",
    "if re.match(pattern, url):\n",
    "    print(\"Valid URL\")\n",
    "else:\n",
    "    print(\"Invalid URL\")"
   ]
  },
  {
   "cell_type": "markdown",
   "id": "b9473fc0-fe95-4b66-9e02-e3d525d2e2da",
   "metadata": {},
   "source": [
    "### 4. Matches non-word characters examples\n",
    "\n",
    "The match.group() method is used in Python's re module to retrieve the part of the string where the regular expression pattern matched."
   ]
  },
  {
   "cell_type": "code",
   "execution_count": 148,
   "id": "7f2d309d-177f-4186-8d02-3957f49d0882",
   "metadata": {},
   "outputs": [
    {
     "name": "stdout",
     "output_type": "stream",
     "text": [
      "Matches: [',', ' ', '!']\n"
     ]
    }
   ],
   "source": [
    "pattern = r\"\\W\"  # Matches any non-word character\n",
    "text = \"Hello, world!\"\n",
    "matches = re.findall(pattern, text)\n",
    "\n",
    "print(\"Matches:\", matches)"
   ]
  },
  {
   "cell_type": "code",
   "execution_count": 152,
   "id": "b81d9ebb-ce59-4339-a6c1-1d2ea23f6fcb",
   "metadata": {},
   "outputs": [
    {
     "name": "stdout",
     "output_type": "stream",
     "text": [
      "['as', 'as']\n"
     ]
    }
   ],
   "source": [
    "s2 = \"Michael Jackson was a singer and known as the 'King of Pop'\"\n",
    "\n",
    "\n",
    "# Use the findall() function to find all occurrences of the \"as\" in the string\n",
    "result = re.findall(\"as\", s2)\n",
    "\n",
    "# Print out the list of matched words\n",
    "print(result)"
   ]
  },
  {
   "cell_type": "markdown",
   "id": "b0b8c800-e88a-4ad4-aaec-2d9cd3a420f5",
   "metadata": {},
   "source": [
    "### 5. Split with RegEx example\n",
    "\n",
    "A regular expression's <code>split()</code> function splits a string into an array of substrings based on a specified pattern."
   ]
  },
  {
   "cell_type": "code",
   "execution_count": 157,
   "id": "6d632d80-7a2e-4b17-ab58-9c5d0a076706",
   "metadata": {},
   "outputs": [
    {
     "name": "stdout",
     "output_type": "stream",
     "text": [
      "['Michael', 'Jackson', 'was', 'a', 'singer', 'and', 'known', 'as', 'the', \"'King\", 'of', \"Pop'\"]\n"
     ]
    }
   ],
   "source": [
    "# Use the split function to split the string by the \"\\s\"\n",
    "split_array = re.split(r\"\\s\", s2)\n",
    "\n",
    "# The split_array contains all the substrings, split by whitespace characters\n",
    "print(split_array)"
   ]
  },
  {
   "cell_type": "markdown",
   "id": "f4367dee-40f3-42dd-a5d3-643272f96c12",
   "metadata": {},
   "source": [
    "### 6. Replace with RegEx example\n",
    "\n",
    "The <code>sub</code> function of a regular expression in Python is used to replace all occurrences of a pattern in a string with a specified replacement"
   ]
  },
  {
   "cell_type": "code",
   "execution_count": 163,
   "id": "4f32e8c6-240a-4035-8b5a-2d956e102da2",
   "metadata": {},
   "outputs": [
    {
     "name": "stdout",
     "output_type": "stream",
     "text": [
      "Michael Jackson was a singer and known as the 'legend'\n"
     ]
    }
   ],
   "source": [
    "# Define the regular expression pattern to search for\n",
    "pattern = r\"King of Pop\"\n",
    "\n",
    "# Define the replacement string\n",
    "replacement = \"legend\"\n",
    "\n",
    "# Use the sub function to replace the pattern with the replacement string\n",
    "new_string = re.sub(pattern, replacement, s2, flags=re.IGNORECASE)\n",
    "\n",
    "# The new_string contains the original string with the pattern replaced by the replacement string\n",
    "print(new_string)"
   ]
  },
  {
   "cell_type": "markdown",
   "id": "c528092e-8063-4053-b0ff-c70ddae3e934",
   "metadata": {},
   "source": [
    "### 7. Finding digits in a string"
   ]
  },
  {
   "cell_type": "code",
   "execution_count": 173,
   "id": "51bcc78a-80b9-4c36-b552-2eab1661c934",
   "metadata": {},
   "outputs": [
    {
     "name": "stdout",
     "output_type": "stream",
     "text": [
      "Digits found:  ['1', '1', '0', '5']\n"
     ]
    }
   ],
   "source": [
    "s3 = \"House number- 1105\"\n",
    "\n",
    "result = re.findall(r\"\\d\", s3)\n",
    "\n",
    "# Check if a match was found\n",
    "if result:\n",
    "    print(\"Digits found: \", result)\n",
    "else:\n",
    "    print(\"Digit not found.\")"
   ]
  }
 ],
 "metadata": {
  "kernelspec": {
   "display_name": "Python 3 (ipykernel)",
   "language": "python",
   "name": "python3"
  },
  "language_info": {
   "codemirror_mode": {
    "name": "ipython",
    "version": 3
   },
   "file_extension": ".py",
   "mimetype": "text/x-python",
   "name": "python",
   "nbconvert_exporter": "python",
   "pygments_lexer": "ipython3",
   "version": "3.12.7"
  }
 },
 "nbformat": 4,
 "nbformat_minor": 5
}
